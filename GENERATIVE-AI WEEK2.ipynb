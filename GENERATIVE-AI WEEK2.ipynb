{
  "nbformat": 4,
  "nbformat_minor": 0,
  "metadata": {
    "colab": {
      "provenance": [],
      "authorship_tag": "ABX9TyNqgqUnVyLME+CUXed0ivoR",
      "include_colab_link": true
    },
    "kernelspec": {
      "name": "python3",
      "display_name": "Python 3"
    },
    "language_info": {
      "name": "python"
    }
  },
  "cells": [
    {
      "cell_type": "markdown",
      "metadata": {
        "id": "view-in-github",
        "colab_type": "text"
      },
      "source": [
        "<a href=\"https://colab.research.google.com/github/2303A52352/GENERATIVE-AI/blob/main/GENERATIVE-AI%20WEEK2.ipynb\" target=\"_parent\"><img src=\"https://colab.research.google.com/assets/colab-badge.svg\" alt=\"Open In Colab\"/></a>"
      ]
    },
    {
      "cell_type": "markdown",
      "source": [
        "QUESTION-**1**"
      ],
      "metadata": {
        "id": "LLubBkAZRA_m"
      }
    },
    {
      "cell_type": "code",
      "source": [
        "from scipy.optimize import linprog\n",
        "profit_coeffs = [-6, -5]\n",
        "\n",
        "constraints = [\n",
        "    [1, 1],\n",
        "    [3, 2],\n",
        "]\n",
        "\n",
        "\n",
        "rhs = [5, 12]\n",
        "\n",
        "\n",
        "bounds = [(0, None), (0, None)]\n",
        "\n",
        "result = linprog(c=profit_coeffs, A_ub=constraints, b_ub=rhs, bounds=bounds, method='highs')\n",
        "\n",
        "\n",
        "if result.success:\n",
        "    print(\"Optimal solution found:\")\n",
        "    print(f\"Units of A to produce: {result.x[0]:.2f}\")\n",
        "    print(f\"Units of B to produce: {result.x[1]:.2f}\")\n",
        "    print(f\"Maximum profit: Rs {abs(result.fun):.2f}\")\n",
        "else:\n",
        "    print(\"No optimal solution found.\")"
      ],
      "metadata": {
        "colab": {
          "base_uri": "https://localhost:8080/"
        },
        "id": "VYP91cTVREXs",
        "outputId": "84b2f783-24a6-45ab-faf7-c454747edfc0"
      },
      "execution_count": 1,
      "outputs": [
        {
          "output_type": "stream",
          "name": "stdout",
          "text": [
            "Optimal solution found:\n",
            "Units of A to produce: 2.00\n",
            "Units of B to produce: 3.00\n",
            "Maximum profit: Rs 27.00\n"
          ]
        }
      ]
    },
    {
      "cell_type": "markdown",
      "source": [
        "QUESTION-2"
      ],
      "metadata": {
        "id": "u5hibMkDRIbE"
      }
    },
    {
      "cell_type": "code",
      "source": [
        "from scipy.optimize import linprog\n",
        "\n",
        "profit_coeffs = [-50, -120]\n",
        "\n",
        "\n",
        "constraints = [\n",
        "    [7000, 2000],\n",
        "    [10, 30],\n",
        "    [1, 1],\n",
        "]\n",
        "\n",
        "\n",
        "rhs = [700000, 1200, 110]\n",
        "\n",
        "\n",
        "bounds = [(0, None), (0, None)]\n",
        "\n",
        "\n",
        "result = linprog(c=profit_coeffs, A_ub=constraints, b_ub=rhs, bounds=bounds, method='highs')\n",
        "\n",
        "\n",
        "if result.success:\n",
        "    print(\"Optimal solution found:\")\n",
        "    print(f\"Hectares of Wheat to grow: {result.x[0]:.2f}\")\n",
        "    print(f\"Hectares of Barley to grow: {result.x[1]:.2f}\")\n",
        "    print(f\"Maximum profit: Rs {abs(result.fun):.2f}\")\n",
        "else:\n",
        "    print(\"No optimal solution found.\")"
      ],
      "metadata": {
        "colab": {
          "base_uri": "https://localhost:8080/"
        },
        "id": "0lf7EJZIRKfc",
        "outputId": "ab50eb26-6fa1-4e52-e10b-fc3a283e9e7b"
      },
      "execution_count": 2,
      "outputs": [
        {
          "output_type": "stream",
          "name": "stdout",
          "text": [
            "Optimal solution found:\n",
            "Hectares of Wheat to grow: 97.89\n",
            "Hectares of Barley to grow: 7.37\n",
            "Maximum profit: Rs 5778.95\n"
          ]
        }
      ]
    }
  ]
}