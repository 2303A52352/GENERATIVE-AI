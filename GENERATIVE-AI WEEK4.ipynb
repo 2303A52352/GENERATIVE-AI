{
  "nbformat": 4,
  "nbformat_minor": 0,
  "metadata": {
    "colab": {
      "provenance": [],
      "authorship_tag": "ABX9TyNjFAlxPLKPrNfQh5Lly7oJ",
      "include_colab_link": true
    },
    "kernelspec": {
      "name": "python3",
      "display_name": "Python 3"
    },
    "language_info": {
      "name": "python"
    }
  },
  "cells": [
    {
      "cell_type": "markdown",
      "metadata": {
        "id": "view-in-github",
        "colab_type": "text"
      },
      "source": [
        "<a href=\"https://colab.research.google.com/github/2303A52352/GENERATIVE-AI/blob/main/GENERATIVE-AI%20WEEK4.ipynb\" target=\"_parent\"><img src=\"https://colab.research.google.com/assets/colab-badge.svg\" alt=\"Open In Colab\"/></a>"
      ]
    },
    {
      "cell_type": "markdown",
      "source": [
        "QUESTION-1\n"
      ],
      "metadata": {
        "id": "oVYlVbmiR1_j"
      }
    },
    {
      "cell_type": "code",
      "source": [
        "import numpy as np\n",
        "\n",
        "X_train = np.array([\n",
        "    [0.1, 0.2, 0.3],\n",
        "    [0.2, 0.3, 0.4],\n",
        "    [0.3, 0.4, 0.5],\n",
        "    [0.5, 0.6, 0.7],\n",
        "    [0.1, 0.3, 0.5],\n",
        "    [0.2, 0.4, 0.6],\n",
        "    [0.3, 0.5, 0.7],\n",
        "    [0.4, 0.6, 0.8],\n",
        "    [0.5, 0.7, 0.1]\n",
        "])\n",
        "y_train = np.array([0.14, 0.20, 0.26, 0.38, 0.22, 0.28, 0.34, 0.40, 0.22])\n",
        "\n",
        "\n",
        "X_test = np.array([\n",
        "    [0.6, 0.7, 0.8],\n",
        "    [0.7, 0.8, 0.9]\n",
        "])\n",
        "y_test = np.array([0.44, 0.50])\n",
        "\n",
        "\n",
        "np.random.seed(42)\n",
        "weights = np.random.rand(3)\n",
        "bias = np.random.rand()\n",
        "\n",
        "\n",
        "learning_rate = 0.01\n",
        "epochs = 1000\n",
        "\n",
        "\n",
        "for _ in range(epochs):\n",
        "    y_pred = np.dot(X_train, weights) + bias\n",
        "    error = y_pred - y_train\n",
        "\n",
        "\n",
        "    dW = (2 / len(X_train)) * np.dot(X_train.T, error)\n",
        "    dB = (2 / len(X_train)) * np.sum(error)\n",
        "\n",
        "\n",
        "    weights -= learning_rate * dW\n",
        "    bias -= learning_rate * dB\n",
        "\n",
        "\n",
        "def mean_squared_error(y_true, y_pred):\n",
        "    return np.mean((y_true - y_pred) ** 2)\n",
        "\n",
        "\n",
        "y_train_pred = np.dot(X_train, weights) + bias\n",
        "train_mse = mean_squared_error(y_train, y_train_pred)\n",
        "\n",
        "y_test_pred = np.dot(X_test, weights) + bias\n",
        "test_mse = mean_squared_error(y_test, y_test_pred)\n",
        "\n",
        "print(f\"Trained Weights: {weights}\")\n",
        "print(f\"Trained Bias: {bias}\")\n",
        "print(f\"Training MSE: {train_mse:.4f}\")\n",
        "print(f\"Testing MSE: {test_mse:.4f}\")\n",
        "\n",
        "x1, x2, x3 = map(float, input(\"Enter x1, x2, x3 values separated by spaces: \").split())\n",
        "user_input = np.array([x1, x2, x3])\n",
        "prediction = np.dot(user_input, weights) + bias\n",
        "print(f\"Predicted Output: {prediction:.4f}\")"
      ],
      "metadata": {
        "colab": {
          "base_uri": "https://localhost:8080/"
        },
        "id": "zoMHDDZPR3as",
        "outputId": "6e9a83c3-e74b-40ee-c1c3-66c516d78598"
      },
      "execution_count": 3,
      "outputs": [
        {
          "output_type": "stream",
          "name": "stdout",
          "text": [
            "Trained Weights: [0.02931013 0.47370907 0.31299069]\n",
            "Trained Bias: -0.11085815567442885\n",
            "Training MSE: 0.0012\n",
            "Testing MSE: 0.0037\n",
            "Enter x1, x2, x3 values separated by spaces: 3500 23000 32\n",
            "Predicted Output: 11007.7989\n"
          ]
        }
      ]
    },
    {
      "cell_type": "markdown",
      "source": [
        "QUESTION-2"
      ],
      "metadata": {
        "id": "dYGWZ-_QR_Ml"
      }
    },
    {
      "cell_type": "code",
      "source": [
        "import numpy as np\n",
        "\n",
        "\n",
        "def sigmoid(x):\n",
        "    return 1 / (1 + np.exp(-x))\n",
        "\n",
        "def sigmoid_derivative(x):\n",
        "    return sigmoid(x) * (1 - sigmoid(x))\n",
        "\n",
        "\n",
        "def mean_squared_error(y_true, y_pred):\n",
        "    return np.mean((y_true - y_pred) ** 2)\n",
        "\n",
        "\n",
        "train_data = np.array([\n",
        "    [0.1, 0.2, 0.3, 0.5349],\n",
        "    [0.2, 0.3, 0.4, 0.5498],\n",
        "    [0.3, 0.4, 0.5, 0.5646],\n",
        "    [0.5, 0.6, 0.7, 0.5939],\n",
        "    [0.1, 0.3, 0.5, 0.5548],\n",
        "    [0.2, 0.4, 0.6, 0.5695],\n",
        "    [0.3, 0.5, 0.7, 0.5842],\n",
        "    [0.4, 0.6, 0.8, 0.5987],\n",
        "    [0.5, 0.7, 0.1, 0.5548]\n",
        "])\n",
        "\n",
        "\n",
        "test_data = np.array([\n",
        "    [0.6, 0.7, 0.8, 0.6083],\n",
        "    [0.7, 0.8, 0.9, 0.6225]\n",
        "])\n",
        "\n",
        "\n",
        "X_train = train_data[:, :3]\n",
        "Y_train = train_data[:, 3]\n",
        "X_test = test_data[:, :3]\n",
        "Y_test = test_data[:, 3]\n",
        "\n",
        "\n",
        "np.random.seed(42)\n",
        "weights = np.random.rand(3)\n",
        "bias = np.random.rand()\n",
        "\n",
        "\n",
        "learning_rate = 0.1\n",
        "epochs = 1000\n",
        "\n",
        "\n",
        "for epoch in range(epochs):\n",
        "    total_error = 0\n",
        "    for x, y_true in zip(X_train, Y_train):\n",
        "\n",
        "        z = np.dot(weights, x) + bias\n",
        "        y_pred = sigmoid(z)\n",
        "\n",
        "\n",
        "        error = y_true - y_pred\n",
        "        total_error += error ** 2\n",
        "\n",
        "\n",
        "        d_error_d_pred = -error\n",
        "        d_pred_d_z = sigmoid_derivative(z)\n",
        "\n",
        "        d_error_d_weights = d_error_d_pred * d_pred_d_z * x\n",
        "        d_error_d_bias = d_error_d_pred * d_pred_d_z\n",
        "\n",
        "\n",
        "        weights -= learning_rate * d_error_d_weights\n",
        "        bias -= learning_rate * d_error_d_bias\n",
        "\n",
        "    if epoch % 100 == 0:\n",
        "        print(f\"Epoch {epoch}, MSE: {total_error / len(X_train)}\")\n",
        "\n",
        "\n",
        "y_train_pred = sigmoid(np.dot(X_train, weights) + bias)\n",
        "train_mse = mean_squared_error(Y_train, y_train_pred)\n",
        "\n",
        "y_test_pred = sigmoid(np.dot(X_test, weights) + bias)\n",
        "test_mse = mean_squared_error(Y_test, y_test_pred)\n",
        "\n",
        "print(f\"Final Training MSE: {train_mse}\")\n",
        "print(f\"Final Testing MSE: {test_mse}\")\n",
        "\n",
        "\n",
        "user_input = input(\"Enter values for x1, x2, x3 separated by spaces: \")\n",
        "user_input = np.array([float(i) for i in user_input.split()])\n",
        "user_prediction = sigmoid(np.dot(user_input, weights) + bias)\n",
        "print(f\"Predicted output: {user_prediction}\")"
      ],
      "metadata": {
        "colab": {
          "base_uri": "https://localhost:8080/"
        },
        "id": "74AL3G5GSAlz",
        "outputId": "47ae7fa0-ba99-4863-9c0e-0ebdbc8baa35"
      },
      "execution_count": 2,
      "outputs": [
        {
          "output_type": "stream",
          "name": "stdout",
          "text": [
            "Epoch 0, MSE: 0.06010175817341734\n",
            "Epoch 100, MSE: 0.00020918076853593295\n",
            "Epoch 200, MSE: 0.00014507361225439932\n",
            "Epoch 300, MSE: 0.00010101104279215046\n",
            "Epoch 400, MSE: 7.073806875720436e-05\n",
            "Epoch 500, MSE: 4.99252238517924e-05\n",
            "Epoch 600, MSE: 3.5603152188018946e-05\n",
            "Epoch 700, MSE: 2.573625770092292e-05\n",
            "Epoch 800, MSE: 1.8929093404849232e-05\n",
            "Epoch 900, MSE: 1.4224774411577851e-05\n",
            "Final Training MSE: 1.0888628355225009e-05\n",
            "Final Testing MSE: 6.5097021717635435e-06\n",
            "Enter values for x1, x2, x3 separated by spaces: 2399 343 34\n",
            "Predicted output: 1.0\n"
          ]
        }
      ]
    }
  ]
}